{
 "cells": [
  {
   "cell_type": "code",
   "execution_count": 90,
   "metadata": {
    "colab": {
     "base_uri": "https://localhost:8080/"
    },
    "executionInfo": {
     "elapsed": 4150,
     "status": "ok",
     "timestamp": 1725090883109,
     "user": {
      "displayName": "prizess_bs",
      "userId": "05834432123457450151"
     },
     "user_tz": -345
    },
    "id": "m0uLPr0X3XkW",
    "outputId": "f1c7f569-72b9-48f8-d8a7-8db01d3a4587"
   },
   "outputs": [
    {
     "name": "stdout",
     "output_type": "stream",
     "text": [
      "Drive already mounted at /content/mydrive; to attempt to forcibly remount, call drive.mount(\"/content/mydrive\", force_remount=True).\n"
     ]
    }
   ],
   "source": [
    "from google.colab import drive\n",
    "drive.mount('/content/mydrive')"
   ]
  },
  {
   "cell_type": "code",
   "execution_count": 91,
   "metadata": {
    "colab": {
     "base_uri": "https://localhost:8080/"
    },
    "executionInfo": {
     "elapsed": 7420,
     "status": "ok",
     "timestamp": 1725090893044,
     "user": {
      "displayName": "prizess_bs",
      "userId": "05834432123457450151"
     },
     "user_tz": -345
    },
    "id": "JfYyxx7A3etY",
    "outputId": "b58b413c-5668-43b6-9456-989f62e73350"
   },
   "outputs": [
    {
     "name": "stdout",
     "output_type": "stream",
     "text": [
      "Requirement already satisfied: openpyxl in /usr/local/lib/python3.10/dist-packages (3.1.5)\n",
      "Requirement already satisfied: et-xmlfile in /usr/local/lib/python3.10/dist-packages (from openpyxl) (1.1.0)\n"
     ]
    }
   ],
   "source": [
    "import os\n",
    "!pip install openpyxl"
   ]
  },
  {
   "cell_type": "code",
   "execution_count": 92,
   "metadata": {
    "colab": {
     "base_uri": "https://localhost:8080/"
    },
    "executionInfo": {
     "elapsed": 537,
     "status": "ok",
     "timestamp": 1725090895710,
     "user": {
      "displayName": "prizess_bs",
      "userId": "05834432123457450151"
     },
     "user_tz": -345
    },
    "id": "__O_eF6e4RGX",
    "outputId": "8abe47cd-60b4-4b8d-adae-3b2003335dbc"
   },
   "outputs": [
    {
     "name": "stdout",
     "output_type": "stream",
     "text": [
      "     Symptoms  Severity    Duration  Location Age Group Treated?\n",
      "SN                                                              \n",
      "1       fever      high  short-term    clinic     adult      yes\n",
      "2    headache      mild   long-term  hospital     child       no\n",
      "3       fever      high  short-term      home     adult       no\n",
      "4       cough  moderate  short-term    clinic     child      yes\n",
      "5       fever  moderate   long-term  hospital     adult       no\n",
      "6    headache  moderate   long-term      home     adult      yes\n",
      "7       cough      high  short-term    clinic     adult      yes\n",
      "8       fever      mild   long-term  hospital     child       no\n",
      "9    headache      high  short-term      home     adult      yes\n",
      "10      cough  moderate   long-term      home     child       no\n",
      "11     nausea      high  short-term    clinic     adult       no\n",
      "12  dizziness  moderate   long-term  hospital     child      yes\n",
      "13      fever       low   long-term      home     adult      yes\n",
      "14     nausea      mild  short-term      home     child       no\n",
      "15  dizziness      high  short-term    clinic     adult      yes\n",
      "16   headache      high   long-term  hospital     child       no\n"
     ]
    }
   ],
   "source": [
    "import pandas as pd\n",
    "import numpy as np\n",
    "import matplotlib.pyplot as plt\n",
    "import seaborn as sns\n",
    "file = \"/content/mydrive/My Drive/Python/Clz/AI/LABWORKS/nb1.xlsx\"\n",
    "df = pd.read_excel(file,index_col=0)\n",
    "print(df)"
   ]
  },
  {
   "cell_type": "code",
   "execution_count": 93,
   "metadata": {
    "colab": {
     "base_uri": "https://localhost:8080/"
    },
    "executionInfo": {
     "elapsed": 519,
     "status": "ok",
     "timestamp": 1725090900211,
     "user": {
      "displayName": "prizess_bs",
      "userId": "05834432123457450151"
     },
     "user_tz": -345
    },
    "id": "EXrJKN0NVuUA",
    "outputId": "61159540-05f0-45c8-fdba-3e337dd18e75"
   },
   "outputs": [
    {
     "name": "stdout",
     "output_type": "stream",
     "text": [
      "    Symptoms  Severity  Duration  Location  Age Group  Treated?\n",
      "SN                                                             \n",
      "1          2         0         1         0          0         1\n",
      "2          3         2         0         2          1         0\n",
      "3          2         0         1         1          0         0\n",
      "4          0         3         1         0          1         1\n",
      "5          2         3         0         2          0         0\n",
      "6          3         3         0         1          0         1\n",
      "7          0         0         1         0          0         1\n",
      "8          2         2         0         2          1         0\n",
      "9          3         0         1         1          0         1\n",
      "10         0         3         0         1          1         0\n",
      "11         4         0         1         0          0         0\n",
      "12         1         3         0         2          1         1\n",
      "13         2         1         0         1          0         1\n",
      "14         4         2         1         1          1         0\n",
      "15         1         0         1         0          0         1\n",
      "16         3         0         0         2          1         0\n"
     ]
    }
   ],
   "source": [
    "import pandas as pd\n",
    "from sklearn.preprocessing import LabelEncoder\n",
    "\n",
    "label_encoders = {}\n",
    "for column in ['Symptoms', 'Severity','Duration','Location','Age Group','Treated?']:\n",
    "    le = LabelEncoder()\n",
    "    df[column] = le.fit_transform(df[column])\n",
    "    label_encoders[column] = le\n",
    "print(df)\n"
   ]
  },
  {
   "cell_type": "code",
   "execution_count": 94,
   "metadata": {
    "colab": {
     "base_uri": "https://localhost:8080/"
    },
    "executionInfo": {
     "elapsed": 503,
     "status": "ok",
     "timestamp": 1725090904729,
     "user": {
      "displayName": "prizess_bs",
      "userId": "05834432123457450151"
     },
     "user_tz": -345
    },
    "id": "C5KSkBT-CbfC",
    "outputId": "da339343-8354-4494-f083-f144ff9808a6"
   },
   "outputs": [
    {
     "name": "stdout",
     "output_type": "stream",
     "text": [
      "    Symptoms  Severity  Duration  Location  Age Group\n",
      "SN                                                   \n",
      "1          2         0         1         0          0\n",
      "2          3         2         0         2          1\n",
      "3          2         0         1         1          0\n",
      "4          0         3         1         0          1\n",
      "5          2         3         0         2          0\n",
      "6          3         3         0         1          0\n",
      "7          0         0         1         0          0\n",
      "8          2         2         0         2          1\n",
      "9          3         0         1         1          0\n",
      "10         0         3         0         1          1\n",
      "11         4         0         1         0          0\n",
      "12         1         3         0         2          1\n",
      "13         2         1         0         1          0\n",
      "14         4         2         1         1          1\n",
      "15         1         0         1         0          0\n",
      "16         3         0         0         2          1\n",
      "SN\n",
      "1     1\n",
      "2     0\n",
      "3     0\n",
      "4     1\n",
      "5     0\n",
      "6     1\n",
      "7     1\n",
      "8     0\n",
      "9     1\n",
      "10    0\n",
      "11    0\n",
      "12    1\n",
      "13    1\n",
      "14    0\n",
      "15    1\n",
      "16    0\n",
      "Name: Treated?, dtype: int64\n"
     ]
    }
   ],
   "source": [
    "X, y=df.drop([\"Treated?\"],axis=1),df[\"Treated?\"]\n",
    "print(X)\n",
    "print(y)"
   ]
  },
  {
   "cell_type": "code",
   "execution_count": 95,
   "metadata": {
    "executionInfo": {
     "elapsed": 3,
     "status": "ok",
     "timestamp": 1725090906617,
     "user": {
      "displayName": "prizess_bs",
      "userId": "05834432123457450151"
     },
     "user_tz": -345
    },
    "id": "0vbU96B8E5CC"
   },
   "outputs": [],
   "source": [
    "import numpy as np\n",
    "import pandas as pd\n",
    "\n",
    "class NaiveBayes:\n",
    "    def __init__(self):\n",
    "        self.features = None\n",
    "        self.likelihoods = {}\n",
    "        self.class_priors = {}\n",
    "        self.pred_priors = {}\n",
    "        self.X_train = None\n",
    "        self.y_train = None\n",
    "        self.train_size = 0\n",
    "        self.num_feats = 0\n",
    "\n",
    "    def fit(self, X, y):\n",
    "        self.features = list(X.columns)\n",
    "        self.X_train = X\n",
    "        self.y_train = y\n",
    "        self.train_size = X.shape[0]\n",
    "        self.num_feats = X.shape[1]\n",
    "\n",
    "        for feature in self.features:\n",
    "            self.likelihoods[feature] = {}\n",
    "            self.pred_priors[feature] = {}\n",
    "            for feat_val in np.unique(self.X_train[feature]):\n",
    "                self.pred_priors[feature][feat_val] = 0\n",
    "                for outcome in np.unique(self.y_train):\n",
    "                    self.likelihoods[feature][f'{feat_val}_{outcome}'] = 0\n",
    "                    self.class_priors[outcome] = 0\n",
    "\n",
    "        self._calc_class_prior()\n",
    "        self._calc_likelihoods()\n",
    "        self._calc_predictor_prior()\n",
    "\n",
    "    def _calc_class_prior(self):\n",
    "        for outcome in np.unique(self.y_train):\n",
    "            outcome_count = sum(self.y_train == outcome)\n",
    "            self.class_priors[outcome] = outcome_count / self.train_size\n",
    "\n",
    "    def _calc_likelihoods(self):\n",
    "        for feature in self.features:\n",
    "            for outcome in np.unique(self.y_train):\n",
    "                outcome_count = sum(self.y_train == outcome)\n",
    "                feat_likelihood = self.X_train[feature][self.y_train[self.y_train == outcome].index.values.tolist()].value_counts().to_dict()\n",
    "                for feat_val, count in feat_likelihood.items():\n",
    "                    self.likelihoods[feature][f'{feat_val}_{outcome}'] = (count + 1) / (outcome_count + len(feat_likelihood))  # Laplace smoothing\n",
    "\n",
    "    def _calc_predictor_prior(self):\n",
    "        for feature in self.features:\n",
    "            feat_val_counts = self.X_train[feature].value_counts().to_dict()\n",
    "            for feat_val, count in feat_val_counts.items():\n",
    "                self.pred_priors[feature][feat_val] = count / self.train_size\n",
    "\n",
    "    def predict(self, X):\n",
    "        results = []\n",
    "        X = np.array(X)\n",
    "\n",
    "        for query in X:\n",
    "            probs_outcome = {}\n",
    "            for outcome in np.unique(self.y_train):\n",
    "                prior = self.class_priors[outcome]\n",
    "                likelihood = 1\n",
    "\n",
    "                for feat, feat_val in zip(self.features, query):\n",
    "                    if f'{feat_val}_{outcome}' in self.likelihoods[feat]:\n",
    "                        likelihood *= self.likelihoods[feat][f'{feat_val}_{outcome}']\n",
    "                    else:\n",
    "                        likelihood *= 1 / (self.train_size + len(self.features))  # Adjust for unseen feature values\n",
    "\n",
    "                posterior = likelihood * prior\n",
    "                probs_outcome[outcome] = posterior\n",
    "\n",
    "            result = max(probs_outcome, key=lambda x: probs_outcome[x])\n",
    "            results.append(result)\n",
    "\n",
    "        return np.array(results)\n",
    "\n",
    "def accuracy_score(y_true, y_pred):\n",
    "    return round(float(sum(y_pred == y_true)) / float(len(y_true)) * 100, 2)\n",
    "\n"
   ]
  },
  {
   "cell_type": "code",
   "execution_count": 96,
   "metadata": {
    "colab": {
     "base_uri": "https://localhost:8080/"
    },
    "executionInfo": {
     "elapsed": 3,
     "status": "ok",
     "timestamp": 1725090908443,
     "user": {
      "displayName": "prizess_bs",
      "userId": "05834432123457450151"
     },
     "user_tz": -345
    },
    "id": "u20UrLBvR-Xv",
    "outputId": "672bbdcf-506f-450d-9df8-1ba317d3cdfe"
   },
   "outputs": [
    {
     "name": "stdout",
     "output_type": "stream",
     "text": [
      "Train Accuracy: 93.75\n",
      "Query:- [[1 0 1 0 0]] ---> [1]\n"
     ]
    }
   ],
   "source": [
    "\n",
    "# Example usage\n",
    "nb_clf = NaiveBayes()\n",
    "nb_clf.fit(X, y)\n",
    "\n",
    "print(\"Train Accuracy: {}\".format(accuracy_score(y, nb_clf.predict(X))))\n",
    "\n",
    "# Query\n",
    "query = np.array([[1, 0, 1,0,0]])\n",
    "print(\"Query:- {} ---> {}\".format(query, nb_clf.predict(query)))"
   ]
  },
  {
   "cell_type": "code",
   "execution_count": null,
   "metadata": {
    "id": "zIJCj_EMVVU1"
   },
   "outputs": [],
   "source": []
  }
 ],
 "metadata": {
  "colab": {
   "authorship_tag": "ABX9TyOk12fjnBhTBDjEUssw4GJL",
   "provenance": []
  },
  "kernelspec": {
   "display_name": "Python 3 (ipykernel)",
   "language": "python",
   "name": "python3"
  },
  "language_info": {
   "codemirror_mode": {
    "name": "ipython",
    "version": 3
   },
   "file_extension": ".py",
   "mimetype": "text/x-python",
   "name": "python",
   "nbconvert_exporter": "python",
   "pygments_lexer": "ipython3",
   "version": "3.12.4"
  }
 },
 "nbformat": 4,
 "nbformat_minor": 4
}
