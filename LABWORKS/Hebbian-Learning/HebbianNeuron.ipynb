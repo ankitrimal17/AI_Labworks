{
  "nbformat": 4,
  "nbformat_minor": 0,
  "metadata": {
    "colab": {
      "provenance": []
    },
    "kernelspec": {
      "name": "python3",
      "display_name": "Python 3"
    },
    "language_info": {
      "name": "python"
    }
  },
  "cells": [
    {
      "cell_type": "code",
      "execution_count": 1,
      "metadata": {
        "id": "fJmpzHG2yYTc"
      },
      "outputs": [],
      "source": [
        "import os"
      ]
    },
    {
      "cell_type": "code",
      "source": [
        "import pandas as pd\n",
        "import numpy as np"
      ],
      "metadata": {
        "id": "XSJwp2jZy09i"
      },
      "execution_count": 2,
      "outputs": []
    },
    {
      "cell_type": "code",
      "source": [
        "class HebbianNeuron(object):\n",
        "  def __init__(self, shape, learning_rate =1, epoch=1):\n",
        "      self.shape = shape\n",
        "      self.learning_rate = learning_rate\n",
        "      self.epochs = epoch\n",
        "      self.weights = np.zeros(self.shape)\n",
        "      self.bias = np.zeros(1)\n",
        "\n",
        "  def train(self, inputs, targets):\n",
        "    updates = []\n",
        "    for epoch in range(self.epochs):\n",
        "        for i in range(len(inputs)):\n",
        "            input_pattern = inputs[i]\n",
        "            target = targets[i]\n",
        "            output = np.dot(self.weights, input_pattern)\n",
        "            self.weights += self.learning_rate * target * input_pattern\n",
        "            self.bias += self.learning_rate * target\n",
        "            updates.append([epoch + 1, i + 1, self.weights[0], self.weights[1], self.bias[0]])\n",
        "\n",
        "    df = pd.DataFrame(updates, columns=[\"Epoch\", \"Iteration\", \"Weight 1\", \"Weight 2\", \"Bias\"])\n",
        "    print(df.to_string(index=False))\n",
        "\n",
        "    return self.weights, self.bias\n",
        "\n",
        "  def predict(self, inputs, ret = False):\n",
        "      self.out_raw =[]\n",
        "      self.out_val =[]\n",
        "      for input_pattern in inputs:\n",
        "        output = input_pattern.dot(self.weights)+self.bias\n",
        "        self.out_raw.append(output)\n",
        "        self.out_val.append(1 if output>0 else -1)\n",
        "        #if not ret:\n",
        "          #print(f\"Input: {input_pattern}, Output:{output > 0}\")\n",
        "\n",
        "  def TruthTable(self, input, input_labels, output_labels):\n",
        "    table = pd.DataFrame(input, columns = input_labels)\n",
        "    self.predict(input,True)\n",
        "    table[output_labels] = pd.Series(self.out_val)\n",
        "    return table"
      ],
      "metadata": {
        "id": "G3HaA0_LzCC-"
      },
      "execution_count": 8,
      "outputs": []
    },
    {
      "cell_type": "code",
      "source": [
        "#Inputs and targets fitting the XOR gate\n",
        "inputs = np.array([[1, -1], [1, 1], [-1, -1], [-1, 1]])\n",
        "targets = np.array([1, -1, -1, 1])"
      ],
      "metadata": {
        "id": "1Atvd7aMzUEn"
      },
      "execution_count": 9,
      "outputs": []
    },
    {
      "cell_type": "code",
      "source": [
        "\n",
        "neuron = HebbianNeuron(shape=(2,), learning_rate=1, epoch=5)\n",
        "print(\"Training Log:\")\n",
        "weights, bias = neuron.train(inputs, targets)\n",
        "\n",
        "neuron.predict(inputs)\n",
        "input_labels = ['Input 1', 'Input 2']\n",
        "output_labels = 'Output'\n",
        "truth_table = neuron.TruthTable(inputs, input_labels, output_labels)\n",
        "print(\"\\nTruth Table:\")\n",
        "print(truth_table)"
      ],
      "metadata": {
        "id": "wSWvi4LzzVSC",
        "colab": {
          "base_uri": "https://localhost:8080/"
        },
        "outputId": "e1756da7-9722-4a2d-8241-d2af02a2093b"
      },
      "execution_count": 13,
      "outputs": [
        {
          "output_type": "stream",
          "name": "stdout",
          "text": [
            "Training Log:\n",
            " Epoch  Iteration  Weight 1  Weight 2  Bias\n",
            "     1          1       1.0      -1.0   1.0\n",
            "     1          2       0.0      -2.0   0.0\n",
            "     1          3       1.0      -1.0  -1.0\n",
            "     1          4       0.0       0.0   0.0\n",
            "     2          1       1.0      -1.0   1.0\n",
            "     2          2       0.0      -2.0   0.0\n",
            "     2          3       1.0      -1.0  -1.0\n",
            "     2          4       0.0       0.0   0.0\n",
            "     3          1       1.0      -1.0   1.0\n",
            "     3          2       0.0      -2.0   0.0\n",
            "     3          3       1.0      -1.0  -1.0\n",
            "     3          4       0.0       0.0   0.0\n",
            "     4          1       1.0      -1.0   1.0\n",
            "     4          2       0.0      -2.0   0.0\n",
            "     4          3       1.0      -1.0  -1.0\n",
            "     4          4       0.0       0.0   0.0\n",
            "     5          1       1.0      -1.0   1.0\n",
            "     5          2       0.0      -2.0   0.0\n",
            "     5          3       1.0      -1.0  -1.0\n",
            "     5          4       0.0       0.0   0.0\n",
            "\n",
            "Truth Table:\n",
            "   Input 1  Input 2  Output\n",
            "0        1       -1      -1\n",
            "1        1        1      -1\n",
            "2       -1       -1      -1\n",
            "3       -1        1      -1\n"
          ]
        }
      ]
    },
    {
      "cell_type": "code",
      "source": [],
      "metadata": {
        "id": "-WmvSdw8_DSW"
      },
      "execution_count": null,
      "outputs": []
    }
  ]
}