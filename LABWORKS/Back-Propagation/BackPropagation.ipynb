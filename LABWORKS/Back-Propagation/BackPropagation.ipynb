{
  "nbformat": 4,
  "nbformat_minor": 0,
  "metadata": {
    "colab": {
      "provenance": []
    },
    "kernelspec": {
      "name": "python3",
      "display_name": "Python 3"
    },
    "language_info": {
      "name": "python"
    }
  },
  "cells": [
    {
      "cell_type": "code",
      "source": [
        "import numpy as np\n",
        "\n",
        "def sigmoid(x):\n",
        "    return 1 / (1 + np.exp(-x))\n",
        "\n",
        "def sigmoid_derivative(x):\n",
        "    return x * (1 - x)\n",
        "\n",
        "class NeuralNetwork:\n",
        "    def __init__(self, input_size, hidden_size, output_size):\n",
        "        self.input_size = input_size\n",
        "        self.hidden_size = hidden_size\n",
        "        self.output_size = output_size\n",
        "        self.weights1 = np.random.uniform(-1, 1, (self.input_size, self.hidden_size))\n",
        "        self.weights2 = np.random.uniform(-1, 1, (self.hidden_size, self.output_size))\n",
        "        self.bias1 = np.zeros((1, self.hidden_size))\n",
        "        self.bias2 = np.zeros((1, self.output_size))\n",
        "\n",
        "    def forward(self, X):\n",
        "        self.hidden_layer = sigmoid(np.dot(X, self.weights1) + self.bias1)\n",
        "        self.output_layer = sigmoid(np.dot(self.hidden_layer, self.weights2) + self.bias2)\n",
        "\n",
        "    def backward(self, X, y, learning_rate):\n",
        "        output_error = y - self.output_layer\n",
        "        output_delta = output_error * sigmoid_derivative(self.output_layer)\n",
        "        hidden_error = output_delta.dot(self.weights2.T)\n",
        "        hidden_delta = hidden_error * sigmoid_derivative(self.hidden_layer)\n",
        "        self.weights2 += self.hidden_layer.T.dot(output_delta) * learning_rate\n",
        "        self.weights1 += X.T.dot(hidden_delta) * learning_rate\n",
        "        self.bias2 += np.sum(output_delta, axis=0, keepdims=True) * learning_rate\n",
        "        self.bias1 += np.sum(hidden_delta, axis=0, keepdims=True) * learning_rate\n",
        "\n",
        "    def train(self, X, y, epochs, learning_rate):\n",
        "        for epoch in range(epochs):\n",
        "            self.forward(X)\n",
        "            self.backward(X, y, learning_rate)\n",
        "\n",
        "    def predict(self, X):\n",
        "        self.forward(X)\n",
        "        return self.output_layer\n",
        "\n",
        "\n"
      ],
      "metadata": {
        "colab": {
          "base_uri": "https://localhost:8080/"
        },
        "id": "N0Q9eAusP1e8",
        "outputId": "286f0daa-6cc7-4905-ab10-24c8eac36416"
      },
      "execution_count": null,
      "outputs": [
        {
          "output_type": "stream",
          "name": "stdout",
          "text": [
            "Predictions:\n",
            " [[0.0827875 ]\n",
            " [0.92095361]\n",
            " [0.92100872]\n",
            " [0.08697894]]\n"
          ]
        }
      ]
    },
    {
      "cell_type": "code",
      "source": [
        "if __name__ == \"__main__\":\n",
        "    X = np.array([[0, 0], [0, 1], [1, 0], [1, 1]])\n",
        "    y = np.array([[0], [1], [1], [0]])\n",
        "    nn = NeuralNetwork(2, 2, 1)\n",
        "    nn.train(X, y, epochs=10000, learning_rate=0.1)\n",
        "    predictions = nn.predict(X)\n",
        "    print(\"Predictions:\\n\", predictions)"
      ],
      "metadata": {
        "colab": {
          "base_uri": "https://localhost:8080/"
        },
        "id": "xe2uISj7QE_u",
        "outputId": "f3ce3669-2476-4ab4-ab09-e6c5c9315ace"
      },
      "execution_count": null,
      "outputs": [
        {
          "output_type": "stream",
          "name": "stdout",
          "text": [
            "Predictions:\n",
            " [[0.08389735]\n",
            " [0.90088801]\n",
            " [0.90084025]\n",
            " [0.13012776]]\n"
          ]
        }
      ]
    },
    {
      "cell_type": "code",
      "source": [],
      "metadata": {
        "id": "y3l6pnm4P2BK"
      },
      "execution_count": null,
      "outputs": []
    }
  ]
}