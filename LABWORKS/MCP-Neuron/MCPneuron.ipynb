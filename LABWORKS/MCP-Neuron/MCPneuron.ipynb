{
  "nbformat": 4,
  "nbformat_minor": 0,
  "metadata": {
    "colab": {
      "provenance": []
    },
    "kernelspec": {
      "name": "python3",
      "display_name": "Python 3"
    },
    "language_info": {
      "name": "python"
    }
  },
  "cells": [
    {
      "cell_type": "code",
      "execution_count": null,
      "metadata": {
        "id": "PjLaWrsa0jW6",
        "colab": {
          "base_uri": "https://localhost:8080/"
        },
        "outputId": "b2c2510a-7341-4c6c-a0f9-13cd1b587f61"
      },
      "outputs": [
        {
          "output_type": "stream",
          "name": "stdout",
          "text": [
            "Input vector: [0 1 1 0], Weight vector: [1 1 1 1]\n",
            "Dot product: 2\n",
            "Activation: 1\n",
            "Activation: 1\n"
          ]
        }
      ],
      "source": [
        "import numpy as np\n",
        "import pandas as pd\n",
        "\n",
        "np.random.seed(seed=0)\n",
        "\n",
        "def linear_threshold_gate(dot: int, T: float) -> int:\n",
        "    '''Returns the binary threshold output'''\n",
        "    return 1 if dot >= T else 0\n",
        "\n",
        "class MCPNeuron(object):\n",
        "    def __init__(self, w=[1,1], t=1, gates=False):\n",
        "        self.w = np.array(w)\n",
        "        self.t = t\n",
        "        self.gates = gates\n",
        "\n",
        "    def predict(self, message):\n",
        "        x = message\n",
        "        sum_ = np.inner(self.w, x)\n",
        "        if not self.gates:\n",
        "            if sum_ >= self.t:\n",
        "                return \"Activation: 1\", \"Neuron Fires\"\n",
        "            else:\n",
        "                return \"Activation: 0\", \"Neuron doesn't Fire\"\n",
        "        else:\n",
        "            return 1 if sum_ >= self.t else 0\n",
        "\n",
        "def TruthTable(object, input, input_labels, output_labels):\n",
        "    table = pd.DataFrame(input, columns=input_labels)\n",
        "    out_signals = [object.predict(message=row) for row in input]\n",
        "    table[output_labels] = pd.Series(out_signals)\n",
        "    return table\n",
        "\n",
        "def print_gate_info(gate_name, weights, threshold, input_signals, input_labels, output_label):\n",
        "    print(f'{gate_name} Gate:')\n",
        "    print(f'Weights: {weights} \\nThreshold: {threshold}')\n",
        "    gate = MCPNeuron(weights, threshold, gates=True)\n",
        "    table = TruthTable(gate, input_signals, input_labels, output_label)\n",
        "    print(table)\n",
        "    print()\n",
        "\n",
        "input_size = 4\n",
        "X = np.random.choice([0,1], input_size)\n",
        "W = np.random.choice([-1,1], input_size)\n",
        "print(f'Input vector: {X}, Weight vector: {W}')\n",
        "dot = X @ W\n",
        "print(f'Dot product: {dot}')\n",
        "T = -1\n",
        "activation = linear_threshold_gate(dot, T)\n",
        "print(f'Activation: {activation}')\n",
        "T = 0\n",
        "activation = linear_threshold_gate(dot, T)\n",
        "print(f'Activation: {activation}')\n",
        "\n",
        "in_labels = ['x1', 'x2']\n",
        "in_signals = np.array([\n",
        "    [0,0],\n",
        "    [0,1],\n",
        "    [1,0],\n",
        "    [1,1]\n",
        "])\n"
      ]
    },
    {
      "cell_type": "code",
      "source": [
        "\n",
        "or_weights = np.array([1,1])\n",
        "or_threshold = 1\n",
        "print_gate_info('OR', or_weights, or_threshold, in_signals, in_labels, 'y')\n"
      ],
      "metadata": {
        "colab": {
          "base_uri": "https://localhost:8080/"
        },
        "id": "Cr55v1gZeaT3",
        "outputId": "fd730201-1a3a-4525-8510-8f005c411c94"
      },
      "execution_count": null,
      "outputs": [
        {
          "output_type": "stream",
          "name": "stdout",
          "text": [
            "OR Gate:\n",
            "Weights: [1 1] \n",
            "Threshold: 1\n",
            "   x1  x2  y\n",
            "0   0   0  0\n",
            "1   0   1  1\n",
            "2   1   0  1\n",
            "3   1   1  1\n",
            "\n"
          ]
        }
      ]
    },
    {
      "cell_type": "code",
      "source": [
        "\n",
        "and_weights = np.array([1,1])\n",
        "and_threshold = 2\n",
        "print_gate_info('AND', and_weights, and_threshold, in_signals, in_labels, 'y')\n"
      ],
      "metadata": {
        "colab": {
          "base_uri": "https://localhost:8080/"
        },
        "id": "Vz5WkttfebS3",
        "outputId": "6a3bdc08-9552-4666-d80f-60330306dbc4"
      },
      "execution_count": null,
      "outputs": [
        {
          "output_type": "stream",
          "name": "stdout",
          "text": [
            "AND Gate:\n",
            "Weights: [1 1] \n",
            "Threshold: 2\n",
            "   x1  x2  y\n",
            "0   0   0  0\n",
            "1   0   1  0\n",
            "2   1   0  0\n",
            "3   1   1  1\n",
            "\n"
          ]
        }
      ]
    },
    {
      "cell_type": "code",
      "source": [
        "\n",
        "nor_weights = np.array([-1,-1])\n",
        "nor_threshold = 0\n",
        "print_gate_info('NOR', nor_weights, nor_threshold, in_signals, in_labels, 'y')"
      ],
      "metadata": {
        "colab": {
          "base_uri": "https://localhost:8080/"
        },
        "id": "kAK-Byc5ecK3",
        "outputId": "2e7e57c3-6ad5-4503-844b-6a9580e6cd75"
      },
      "execution_count": null,
      "outputs": [
        {
          "output_type": "stream",
          "name": "stdout",
          "text": [
            "NOR Gate:\n",
            "Weights: [-1 -1] \n",
            "Threshold: 0\n",
            "   x1  x2  y\n",
            "0   0   0  1\n",
            "1   0   1  0\n",
            "2   1   0  0\n",
            "3   1   1  0\n",
            "\n"
          ]
        }
      ]
    },
    {
      "cell_type": "code",
      "source": [],
      "metadata": {
        "id": "hnPYvJCJeiUt"
      },
      "execution_count": null,
      "outputs": []
    }
  ]
}